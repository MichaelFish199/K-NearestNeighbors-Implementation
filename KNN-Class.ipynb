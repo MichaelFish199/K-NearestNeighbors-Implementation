{
 "cells": [
  {
   "cell_type": "code",
   "execution_count": 1,
   "id": "7a93a607",
   "metadata": {},
   "outputs": [],
   "source": [
    "import numpy as np\n",
    "import pandas as pd\n",
    "\n",
    "from sklearn import datasets\n",
    "from collections import Counter"
   ]
  },
  {
   "cell_type": "code",
   "execution_count": 2,
   "id": "68f42fea",
   "metadata": {},
   "outputs": [],
   "source": [
    "class My_KNN():\n",
    "    \"\"\"\n",
    "    My KNN class\n",
    "    \"\"\"\n",
    "    \n",
    "    def __init__(self, n_neighbors=5):\n",
    "        self.n_neighbors = n_neighbors\n",
    "    \n",
    "    \n",
    "    def fit(self, data, target):\n",
    "        self.data = data\n",
    "        self.target = target\n",
    "    \n",
    "    \n",
    "    def predict(self, point):\n",
    "        dist = (df - point) ** 2 # Euclidean distance\n",
    "        euc_dist = dist.sum(axis=1)\n",
    "        neighbours = self.target[euc_dist.sort_values().index]\n",
    "        neighbours = neighbours.reset_index(drop=True)\n",
    "        K_neighbours = neighbours[:self.n_neighbors]\n",
    "        \n",
    "        # Checking most common item in Series\n",
    "        counter = Counter(K_neighbours)\n",
    "        result = counter.most_common()[0][0]\n",
    "\n",
    "        return result"
   ]
  },
  {
   "cell_type": "code",
   "execution_count": 3,
   "id": "5bc9778b",
   "metadata": {},
   "outputs": [],
   "source": [
    "# Loading dataset\n",
    "X, y = datasets.load_iris(return_X_y=True)"
   ]
  },
  {
   "cell_type": "code",
   "execution_count": 4,
   "id": "92de8e1f",
   "metadata": {},
   "outputs": [],
   "source": [
    "point = [5.6, 3., 4.2, 1.1]"
   ]
  },
  {
   "cell_type": "code",
   "execution_count": 5,
   "id": "6a8f9ab8",
   "metadata": {},
   "outputs": [],
   "source": [
    "# Converting to dataframe\n",
    "df = pd.DataFrame(X)\n",
    "\n",
    "target = pd.Series(y)"
   ]
  },
  {
   "cell_type": "code",
   "execution_count": 6,
   "id": "b602f833",
   "metadata": {},
   "outputs": [
    {
     "data": {
      "text/plain": [
       "1"
      ]
     },
     "execution_count": 6,
     "metadata": {},
     "output_type": "execute_result"
    }
   ],
   "source": [
    "myknn = My_KNN(5)\n",
    "\n",
    "myknn.fit(df, target)\n",
    "\n",
    "myresult = myknn.predict(point)\n",
    "\n",
    "myresult "
   ]
  },
  {
   "cell_type": "markdown",
   "id": "c570acf2",
   "metadata": {},
   "source": [
    "# Comparing with KNN from skleran"
   ]
  },
  {
   "cell_type": "code",
   "execution_count": 7,
   "id": "07d2e513",
   "metadata": {},
   "outputs": [
    {
     "data": {
      "text/plain": [
       "1"
      ]
     },
     "execution_count": 7,
     "metadata": {},
     "output_type": "execute_result"
    }
   ],
   "source": [
    "from sklearn.neighbors import KNeighborsClassifier\n",
    "\n",
    "knn = KNeighborsClassifier(5)\n",
    "\n",
    "knn.fit(df, target)\n",
    "\n",
    "result = knn.predict([point])\n",
    "\n",
    "result[0]"
   ]
  }
 ],
 "metadata": {
  "kernelspec": {
   "display_name": "Python 3 (ipykernel)",
   "language": "python",
   "name": "python3"
  },
  "language_info": {
   "codemirror_mode": {
    "name": "ipython",
    "version": 3
   },
   "file_extension": ".py",
   "mimetype": "text/x-python",
   "name": "python",
   "nbconvert_exporter": "python",
   "pygments_lexer": "ipython3",
   "version": "3.9.12"
  }
 },
 "nbformat": 4,
 "nbformat_minor": 5
}
