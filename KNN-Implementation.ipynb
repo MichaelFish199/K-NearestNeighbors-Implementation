{
 "cells": [
  {
   "cell_type": "code",
   "execution_count": 1,
   "id": "d248b988",
   "metadata": {},
   "outputs": [],
   "source": [
    "import numpy as np\n",
    "import pandas as pd\n",
    "import seaborn as sns\n",
    "\n",
    "import matplotlib.pyplot as plt"
   ]
  },
  {
   "cell_type": "markdown",
   "id": "e86553f2",
   "metadata": {},
   "source": [
    "# Creating Sample Data"
   ]
  },
  {
   "cell_type": "code",
   "execution_count": 2,
   "id": "27d3d2cb",
   "metadata": {},
   "outputs": [],
   "source": [
    "# Creating dataset\n",
    "from sklearn.datasets import make_blobs\n",
    "\n",
    "X, y = make_blobs(n_samples=100, n_features=4, cluster_std=3)"
   ]
  },
  {
   "cell_type": "code",
   "execution_count": 3,
   "id": "bb2b212d",
   "metadata": {},
   "outputs": [],
   "source": [
    "# Converting to dataframe\n",
    "df = pd.DataFrame(X)\n",
    "\n",
    "target = pd.Series(y)"
   ]
  },
  {
   "cell_type": "code",
   "execution_count": 4,
   "id": "2685aa5a",
   "metadata": {},
   "outputs": [
    {
     "data": {
      "text/plain": [
       "21"
      ]
     },
     "execution_count": 4,
     "metadata": {},
     "output_type": "execute_result"
    }
   ],
   "source": [
    "# Getting random number\n",
    "rand_num = np.random.randint(0, 100)\n",
    "rand_num"
   ]
  },
  {
   "cell_type": "code",
   "execution_count": 5,
   "id": "5f460a00",
   "metadata": {},
   "outputs": [
    {
     "data": {
      "text/plain": [
       "0"
      ]
     },
     "execution_count": 5,
     "metadata": {},
     "output_type": "execute_result"
    }
   ],
   "source": [
    "# Getting data point from dataframe and its class\n",
    "point = df.iloc[rand_num]\n",
    "t_point = target.iloc[rand_num]\n",
    "\n",
    "# Removing data point from dataframe\n",
    "df.drop(rand_num, inplace=True)\n",
    "target.drop(rand_num, inplace=True)\n",
    "\n",
    "# Class of data point\n",
    "t_point"
   ]
  },
  {
   "cell_type": "code",
   "execution_count": 6,
   "id": "2ced9b9c",
   "metadata": {},
   "outputs": [
    {
     "data": {
      "image/png": "[encoded data removed]",
      "text/plain": [
       "<Figure size 432x288 with 1 Axes>"
      ]
     },
     "metadata": {
      "needs_background": "light"
     },
     "output_type": "display_data"
    }
   ],
   "source": [
    "# Plotting whole dataset\n",
    "sns.scatterplot(x=df[0], y=df[1], hue=target)\n",
    "\n",
    "# Plotting our data point\n",
    "plt.scatter(point[0], point[1], c=\"r\", s=68);"
   ]
  },
  {
   "cell_type": "markdown",
   "id": "ccb103da",
   "metadata": {},
   "source": [
    "# My KNN implementation"
   ]
  },
  {
   "cell_type": "code",
   "execution_count": 7,
   "id": "46e57832",
   "metadata": {},
   "outputs": [
    {
     "data": {
      "text/html": [
       "<div>\n",
       "<style scoped>\n",
       "    .dataframe tbody tr th:only-of-type {\n",
       "        vertical-align: middle;\n",
       "    }\n",
       "\n",
       "    .dataframe tbody tr th {\n",
       "        vertical-align: top;\n",
       "    }\n",
       "\n",
       "    .dataframe thead th {\n",
       "        text-align: right;\n",
       "    }\n",
       "</style>\n",
       "<table border=\"1\" class=\"dataframe\">\n",
       "  <thead>\n",
       "    <tr style=\"text-align: right;\">\n",
       "      <th></th>\n",
       "      <th>0</th>\n",
       "      <th>1</th>\n",
       "      <th>2</th>\n",
       "      <th>3</th>\n",
       "    </tr>\n",
       "  </thead>\n",
       "  <tbody>\n",
       "    <tr>\n",
       "      <th>0</th>\n",
       "      <td>313.275590</td>\n",
       "      <td>7.247637</td>\n",
       "      <td>43.765048</td>\n",
       "      <td>175.779955</td>\n",
       "    </tr>\n",
       "    <tr>\n",
       "      <th>1</th>\n",
       "      <td>56.742102</td>\n",
       "      <td>6.346109</td>\n",
       "      <td>3.424143</td>\n",
       "      <td>0.464675</td>\n",
       "    </tr>\n",
       "    <tr>\n",
       "      <th>2</th>\n",
       "      <td>346.988788</td>\n",
       "      <td>4.598153</td>\n",
       "      <td>1.224162</td>\n",
       "      <td>348.731356</td>\n",
       "    </tr>\n",
       "    <tr>\n",
       "      <th>3</th>\n",
       "      <td>355.646000</td>\n",
       "      <td>7.838677</td>\n",
       "      <td>1.190366</td>\n",
       "      <td>379.939310</td>\n",
       "    </tr>\n",
       "    <tr>\n",
       "      <th>4</th>\n",
       "      <td>237.428359</td>\n",
       "      <td>6.139468</td>\n",
       "      <td>14.443613</td>\n",
       "      <td>497.178430</td>\n",
       "    </tr>\n",
       "    <tr>\n",
       "      <th>...</th>\n",
       "      <td>...</td>\n",
       "      <td>...</td>\n",
       "      <td>...</td>\n",
       "      <td>...</td>\n",
       "    </tr>\n",
       "    <tr>\n",
       "      <th>95</th>\n",
       "      <td>13.248787</td>\n",
       "      <td>6.490375</td>\n",
       "      <td>8.184646</td>\n",
       "      <td>33.647215</td>\n",
       "    </tr>\n",
       "    <tr>\n",
       "      <th>96</th>\n",
       "      <td>48.849619</td>\n",
       "      <td>7.527316</td>\n",
       "      <td>140.280074</td>\n",
       "      <td>107.811703</td>\n",
       "    </tr>\n",
       "    <tr>\n",
       "      <th>97</th>\n",
       "      <td>60.599264</td>\n",
       "      <td>57.923647</td>\n",
       "      <td>0.938740</td>\n",
       "      <td>18.124968</td>\n",
       "    </tr>\n",
       "    <tr>\n",
       "      <th>98</th>\n",
       "      <td>322.816987</td>\n",
       "      <td>5.125197</td>\n",
       "      <td>42.736961</td>\n",
       "      <td>197.909089</td>\n",
       "    </tr>\n",
       "    <tr>\n",
       "      <th>99</th>\n",
       "      <td>72.475788</td>\n",
       "      <td>0.256100</td>\n",
       "      <td>0.459921</td>\n",
       "      <td>9.542485</td>\n",
       "    </tr>\n",
       "  </tbody>\n",
       "</table>\n",
       "<p>99 rows × 4 columns</p>\n",
       "</div>"
      ],
      "text/plain": [
       "             0          1           2           3\n",
       "0   313.275590   7.247637   43.765048  175.779955\n",
       "1    56.742102   6.346109    3.424143    0.464675\n",
       "2   346.988788   4.598153    1.224162  348.731356\n",
       "3   355.646000   7.838677    1.190366  379.939310\n",
       "4   237.428359   6.139468   14.443613  497.178430\n",
       "..         ...        ...         ...         ...\n",
       "95   13.248787   6.490375    8.184646   33.647215\n",
       "96   48.849619   7.527316  140.280074  107.811703\n",
       "97   60.599264  57.923647    0.938740   18.124968\n",
       "98  322.816987   5.125197   42.736961  197.909089\n",
       "99   72.475788   0.256100    0.459921    9.542485\n",
       "\n",
       "[99 rows x 4 columns]"
      ]
     },
     "execution_count": 7,
     "metadata": {},
     "output_type": "execute_result"
    }
   ],
   "source": [
    "# Euclidean distance\n",
    "dist = (df - point) ** 2\n",
    "dist"
   ]
  },
  {
   "cell_type": "code",
   "execution_count": 8,
   "id": "a7ebb1be",
   "metadata": {},
   "outputs": [
    {
     "data": {
      "text/plain": [
       "0     540.068230\n",
       "1      66.977029\n",
       "2     701.542460\n",
       "3     744.614353\n",
       "4     755.189871\n",
       "         ...    \n",
       "95     61.571023\n",
       "96    304.468712\n",
       "97    137.586619\n",
       "98    568.588234\n",
       "99     82.734294\n",
       "Length: 99, dtype: float64"
      ]
     },
     "execution_count": 8,
     "metadata": {},
     "output_type": "execute_result"
    }
   ],
   "source": [
    "# Summing up columns for each row\n",
    "euc_dist = dist.sum(axis=1)\n",
    "euc_dist"
   ]
  },
  {
   "cell_type": "code",
   "execution_count": 9,
   "id": "6f0984e6",
   "metadata": {},
   "outputs": [
    {
     "data": {
      "text/plain": [
       "10    0\n",
       "63    0\n",
       "19    0\n",
       "61    0\n",
       "92    0\n",
       "     ..\n",
       "9     2\n",
       "29    2\n",
       "66    2\n",
       "65    2\n",
       "69    2\n",
       "Length: 99, dtype: int32"
      ]
     },
     "execution_count": 9,
     "metadata": {},
     "output_type": "execute_result"
    }
   ],
   "source": [
    "# Sorting values of closest neighbours\n",
    "neighbours = target[euc_dist.sort_values().index]\n",
    "neighbours"
   ]
  },
  {
   "cell_type": "code",
   "execution_count": 10,
   "id": "34114b7e",
   "metadata": {},
   "outputs": [
    {
     "data": {
      "text/plain": [
       "0     0\n",
       "1     0\n",
       "2     0\n",
       "3     0\n",
       "4     0\n",
       "     ..\n",
       "94    2\n",
       "95    2\n",
       "96    2\n",
       "97    2\n",
       "98    2\n",
       "Length: 99, dtype: int32"
      ]
     },
     "execution_count": 10,
     "metadata": {},
     "output_type": "execute_result"
    }
   ],
   "source": [
    "# Reseting index\n",
    "neighbours = neighbours.reset_index(drop=True)\n",
    "neighbours"
   ]
  },
  {
   "cell_type": "code",
   "execution_count": 11,
   "id": "734d9122",
   "metadata": {},
   "outputs": [],
   "source": [
    "# Getting K closest neighbours\n",
    "K = 5\n",
    "\n",
    "K_neighbours = neighbours[:K]"
   ]
  },
  {
   "cell_type": "code",
   "execution_count": 12,
   "id": "452bdf3e",
   "metadata": {},
   "outputs": [
    {
     "data": {
      "text/plain": [
       "0"
      ]
     },
     "execution_count": 12,
     "metadata": {},
     "output_type": "execute_result"
    }
   ],
   "source": [
    "# Checking most common item in Series\n",
    "from collections import Counter\n",
    "\n",
    "counter = Counter(K_neighbours)\n",
    "result = counter.most_common()[0][0]\n",
    "result"
   ]
  },
  {
   "cell_type": "markdown",
   "id": "8fed0481",
   "metadata": {},
   "source": [
    "# Comparing with KNN from sklearn"
   ]
  },
  {
   "cell_type": "code",
   "execution_count": 13,
   "id": "8f108d8b",
   "metadata": {},
   "outputs": [],
   "source": [
    "from sklearn.neighbors import KNeighborsClassifier"
   ]
  },
  {
   "cell_type": "code",
   "execution_count": 14,
   "id": "12f923cd",
   "metadata": {},
   "outputs": [],
   "source": [
    "knn = KNeighborsClassifier()"
   ]
  },
  {
   "cell_type": "code",
   "execution_count": 15,
   "id": "6d4f1b52",
   "metadata": {},
   "outputs": [
    {
     "data": {
      "text/plain": [
       "KNeighborsClassifier()"
      ]
     },
     "execution_count": 15,
     "metadata": {},
     "output_type": "execute_result"
    }
   ],
   "source": [
    "knn.fit(df, target)"
   ]
  },
  {
   "cell_type": "code",
   "execution_count": 16,
   "id": "3a4ef1a1",
   "metadata": {},
   "outputs": [
    {
     "data": {
      "text/plain": [
       "0"
      ]
     },
     "execution_count": 16,
     "metadata": {},
     "output_type": "execute_result"
    }
   ],
   "source": [
    "knn.predict([point])[0]"
   ]
  }
 ],
 "metadata": {
  "kernelspec": {
   "display_name": "Python 3 (ipykernel)",
   "language": "python",
   "name": "python3"
  },
  "language_info": {
   "codemirror_mode": {
    "name": "ipython",
    "version": 3
   },
   "file_extension": ".py",
   "mimetype": "text/x-python",
   "name": "python",
   "nbconvert_exporter": "python",
   "pygments_lexer": "ipython3",
   "version": "3.9.12"
  }
 },
 "nbformat": 4,
 "nbformat_minor": 5
}
