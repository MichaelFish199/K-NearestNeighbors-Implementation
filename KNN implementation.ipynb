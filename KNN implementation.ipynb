{
 "cells": [
  {
   "cell_type": "code",
   "execution_count": 5,
   "id": "d248b988",
   "metadata": {},
   "outputs": [],
   "source": [
    "import numpy as np\n",
    "import pandas as pd\n",
    "import seaborn as sns"
   ]
  },
  {
   "cell_type": "markdown",
   "id": "e86553f2",
   "metadata": {},
   "source": [
    "# Creating Sample Data"
   ]
  },
  {
   "cell_type": "code",
   "execution_count": 6,
   "id": "27d3d2cb",
   "metadata": {},
   "outputs": [],
   "source": [
    "# Creating dataset\n",
    "from sklearn.datasets import make_blobs\n",
    "\n",
    "X, y = make_blobs(n_samples=100, n_features=4)"
   ]
  },
  {
   "cell_type": "code",
   "execution_count": 7,
   "id": "bb2b212d",
   "metadata": {},
   "outputs": [],
   "source": [
    "# Converting to dataframe\n",
    "df = pd.DataFrame(X)\n",
    "\n",
    "target = pd.Series(y)"
   ]
  },
  {
   "cell_type": "code",
   "execution_count": 8,
   "id": "5f460a00",
   "metadata": {},
   "outputs": [
    {
     "data": {
      "text/plain": [
       "2"
      ]
     },
     "execution_count": 8,
     "metadata": {},
     "output_type": "execute_result"
    }
   ],
   "source": [
    "# Getting random number\n",
    "rand_num = np.random.randint(0, 100)\n",
    "\n",
    "# Random data point\n",
    "point = df.iloc[rand_num]\n",
    "t_point = target.iloc[rand_num]\n",
    "t_point"
   ]
  },
  {
   "cell_type": "code",
   "execution_count": 9,
   "id": "2ced9b9c",
   "metadata": {},
   "outputs": [
    {
     "data": {
      "image/png": "[encoded data removed]",
      "text/plain": [
       "<Figure size 432x288 with 1 Axes>"
      ]
     },
     "metadata": {
      "needs_background": "light"
     },
     "output_type": "display_data"
    }
   ],
   "source": [
    "sns.scatterplot(x=df[0], y=df[1], hue=target);"
   ]
  },
  {
   "cell_type": "markdown",
   "id": "ccb103da",
   "metadata": {},
   "source": [
    "# My KNN implementation"
   ]
  },
  {
   "cell_type": "code",
   "execution_count": 10,
   "id": "46e57832",
   "metadata": {},
   "outputs": [
    {
     "data": {
      "text/html": [
       "<div>\n",
       "<style scoped>\n",
       "    .dataframe tbody tr th:only-of-type {\n",
       "        vertical-align: middle;\n",
       "    }\n",
       "\n",
       "    .dataframe tbody tr th {\n",
       "        vertical-align: top;\n",
       "    }\n",
       "\n",
       "    .dataframe thead th {\n",
       "        text-align: right;\n",
       "    }\n",
       "</style>\n",
       "<table border=\"1\" class=\"dataframe\">\n",
       "  <thead>\n",
       "    <tr style=\"text-align: right;\">\n",
       "      <th></th>\n",
       "      <th>0</th>\n",
       "      <th>1</th>\n",
       "      <th>2</th>\n",
       "      <th>3</th>\n",
       "    </tr>\n",
       "  </thead>\n",
       "  <tbody>\n",
       "    <tr>\n",
       "      <th>0</th>\n",
       "      <td>23.586507</td>\n",
       "      <td>0.603495</td>\n",
       "      <td>3.146756</td>\n",
       "      <td>19.849961</td>\n",
       "    </tr>\n",
       "    <tr>\n",
       "      <th>1</th>\n",
       "      <td>76.702216</td>\n",
       "      <td>38.826131</td>\n",
       "      <td>49.515391</td>\n",
       "      <td>227.370021</td>\n",
       "    </tr>\n",
       "    <tr>\n",
       "      <th>2</th>\n",
       "      <td>1.092367</td>\n",
       "      <td>0.038319</td>\n",
       "      <td>0.251530</td>\n",
       "      <td>0.625564</td>\n",
       "    </tr>\n",
       "    <tr>\n",
       "      <th>3</th>\n",
       "      <td>23.150511</td>\n",
       "      <td>2.253205</td>\n",
       "      <td>10.441097</td>\n",
       "      <td>16.729141</td>\n",
       "    </tr>\n",
       "    <tr>\n",
       "      <th>4</th>\n",
       "      <td>51.580883</td>\n",
       "      <td>0.259219</td>\n",
       "      <td>9.729582</td>\n",
       "      <td>28.558869</td>\n",
       "    </tr>\n",
       "    <tr>\n",
       "      <th>...</th>\n",
       "      <td>...</td>\n",
       "      <td>...</td>\n",
       "      <td>...</td>\n",
       "      <td>...</td>\n",
       "    </tr>\n",
       "    <tr>\n",
       "      <th>95</th>\n",
       "      <td>25.747764</td>\n",
       "      <td>1.117053</td>\n",
       "      <td>12.756957</td>\n",
       "      <td>26.144878</td>\n",
       "    </tr>\n",
       "    <tr>\n",
       "      <th>96</th>\n",
       "      <td>90.031935</td>\n",
       "      <td>27.844979</td>\n",
       "      <td>48.252503</td>\n",
       "      <td>223.896045</td>\n",
       "    </tr>\n",
       "    <tr>\n",
       "      <th>97</th>\n",
       "      <td>65.672585</td>\n",
       "      <td>20.720229</td>\n",
       "      <td>54.735410</td>\n",
       "      <td>200.158880</td>\n",
       "    </tr>\n",
       "    <tr>\n",
       "      <th>98</th>\n",
       "      <td>1.015569</td>\n",
       "      <td>0.905728</td>\n",
       "      <td>3.340200</td>\n",
       "      <td>2.899655</td>\n",
       "    </tr>\n",
       "    <tr>\n",
       "      <th>99</th>\n",
       "      <td>0.000000</td>\n",
       "      <td>0.000000</td>\n",
       "      <td>0.000000</td>\n",
       "      <td>0.000000</td>\n",
       "    </tr>\n",
       "  </tbody>\n",
       "</table>\n",
       "<p>100 rows × 4 columns</p>\n",
       "</div>"
      ],
      "text/plain": [
       "            0          1          2           3\n",
       "0   23.586507   0.603495   3.146756   19.849961\n",
       "1   76.702216  38.826131  49.515391  227.370021\n",
       "2    1.092367   0.038319   0.251530    0.625564\n",
       "3   23.150511   2.253205  10.441097   16.729141\n",
       "4   51.580883   0.259219   9.729582   28.558869\n",
       "..        ...        ...        ...         ...\n",
       "95  25.747764   1.117053  12.756957   26.144878\n",
       "96  90.031935  27.844979  48.252503  223.896045\n",
       "97  65.672585  20.720229  54.735410  200.158880\n",
       "98   1.015569   0.905728   3.340200    2.899655\n",
       "99   0.000000   0.000000   0.000000    0.000000\n",
       "\n",
       "[100 rows x 4 columns]"
      ]
     },
     "execution_count": 10,
     "metadata": {},
     "output_type": "execute_result"
    }
   ],
   "source": [
    "# Euclidean distance\n",
    "dist = (df - df.iloc[-1]) ** 2\n",
    "dist"
   ]
  },
  {
   "cell_type": "code",
   "execution_count": 11,
   "id": "a7ebb1be",
   "metadata": {},
   "outputs": [
    {
     "data": {
      "text/plain": [
       "0      47.186719\n",
       "1     392.413759\n",
       "2       2.007780\n",
       "3      52.573954\n",
       "4      90.128553\n",
       "         ...    \n",
       "95     65.766652\n",
       "96    390.025463\n",
       "97    341.287104\n",
       "98      8.161152\n",
       "99      0.000000\n",
       "Length: 100, dtype: float64"
      ]
     },
     "execution_count": 11,
     "metadata": {},
     "output_type": "execute_result"
    }
   ],
   "source": [
    "# Summing up columns for each row\n",
    "euc_dist = dist.sum(axis=1)\n",
    "euc_dist"
   ]
  },
  {
   "cell_type": "code",
   "execution_count": 12,
   "id": "6f0984e6",
   "metadata": {},
   "outputs": [
    {
     "data": {
      "text/plain": [
       "99    2\n",
       "2     2\n",
       "93    2\n",
       "56    2\n",
       "27    2\n",
       "     ..\n",
       "87    1\n",
       "40    1\n",
       "19    1\n",
       "23    1\n",
       "68    1\n",
       "Length: 100, dtype: int32"
      ]
     },
     "execution_count": 12,
     "metadata": {},
     "output_type": "execute_result"
    }
   ],
   "source": [
    "# Sorting values of closest neighbours\n",
    "neighbours = target[euc_dist.sort_values().index]\n",
    "neighbours"
   ]
  },
  {
   "cell_type": "code",
   "execution_count": 13,
   "id": "34114b7e",
   "metadata": {},
   "outputs": [
    {
     "data": {
      "text/plain": [
       "0     2\n",
       "1     2\n",
       "2     2\n",
       "3     2\n",
       "4     2\n",
       "     ..\n",
       "95    1\n",
       "96    1\n",
       "97    1\n",
       "98    1\n",
       "99    1\n",
       "Length: 100, dtype: int32"
      ]
     },
     "execution_count": 13,
     "metadata": {},
     "output_type": "execute_result"
    }
   ],
   "source": [
    "# Reseting index\n",
    "neighbours = neighbours.reset_index(drop=True)\n",
    "neighbours"
   ]
  },
  {
   "cell_type": "code",
   "execution_count": 14,
   "id": "734d9122",
   "metadata": {},
   "outputs": [],
   "source": [
    "# Getting K closest neighbours\n",
    "K = 5\n",
    "\n",
    "K_neighbours = neighbours[:K]"
   ]
  },
  {
   "cell_type": "code",
   "execution_count": 15,
   "id": "452bdf3e",
   "metadata": {},
   "outputs": [
    {
     "data": {
      "text/plain": [
       "2"
      ]
     },
     "execution_count": 15,
     "metadata": {},
     "output_type": "execute_result"
    }
   ],
   "source": [
    "# Checking most common iter in Series\n",
    "from collections import Counter\n",
    "\n",
    "counter = Counter(K_neighbours)\n",
    "result = counter.most_common()[0][0]\n",
    "result"
   ]
  },
  {
   "cell_type": "markdown",
   "id": "8fed0481",
   "metadata": {},
   "source": [
    "# Comparing with KNN from sklearn"
   ]
  },
  {
   "cell_type": "code",
   "execution_count": 16,
   "id": "8f108d8b",
   "metadata": {},
   "outputs": [],
   "source": [
    "from sklearn.neighbors import KNeighborsClassifier"
   ]
  },
  {
   "cell_type": "code",
   "execution_count": 17,
   "id": "12f923cd",
   "metadata": {},
   "outputs": [],
   "source": [
    "knn = KNeighborsClassifier()"
   ]
  },
  {
   "cell_type": "code",
   "execution_count": 18,
   "id": "6d4f1b52",
   "metadata": {},
   "outputs": [
    {
     "data": {
      "text/plain": [
       "KNeighborsClassifier()"
      ]
     },
     "execution_count": 18,
     "metadata": {},
     "output_type": "execute_result"
    }
   ],
   "source": [
    "knn.fit(df, target)"
   ]
  },
  {
   "cell_type": "code",
   "execution_count": 19,
   "id": "3a4ef1a1",
   "metadata": {},
   "outputs": [
    {
     "data": {
      "text/plain": [
       "2"
      ]
     },
     "execution_count": 19,
     "metadata": {},
     "output_type": "execute_result"
    }
   ],
   "source": [
    "knn.predict([df.iloc[-1]])[0]"
   ]
  }
 ],
 "metadata": {
  "kernelspec": {
   "display_name": "Python 3 (ipykernel)",
   "language": "python",
   "name": "python3"
  },
  "language_info": {
   "codemirror_mode": {
    "name": "ipython",
    "version": 3
   },
   "file_extension": ".py",
   "mimetype": "text/x-python",
   "name": "python",
   "nbconvert_exporter": "python",
   "pygments_lexer": "ipython3",
   "version": "3.9.12"
  }
 },
 "nbformat": 4,
 "nbformat_minor": 5
}
